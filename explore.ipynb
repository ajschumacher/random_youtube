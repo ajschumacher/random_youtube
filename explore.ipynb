{
 "cells": [
  {
   "cell_type": "code",
   "execution_count": 1,
   "metadata": {},
   "outputs": [],
   "source": [
    "import collections"
   ]
  },
  {
   "cell_type": "markdown",
   "metadata": {},
   "source": [
    "The `youtube_urls.txt` file has a convenience sample of 210 unique Youtube video URLs, one per line."
   ]
  },
  {
   "cell_type": "code",
   "execution_count": 2,
   "metadata": {
    "collapsed": true
   },
   "outputs": [],
   "source": [
    "with open('youtube_urls.txt') as f:\n",
    "    urls = [line.strip() for line in f]"
   ]
  },
  {
   "cell_type": "code",
   "execution_count": 3,
   "metadata": {},
   "outputs": [
    {
     "data": {
      "text/plain": [
       "'https://www.youtube.com/watch?v=-xIOhTt80ZM'"
      ]
     },
     "execution_count": 3,
     "metadata": {},
     "output_type": "execute_result"
    }
   ],
   "source": [
    "urls[0]"
   ]
  },
  {
   "cell_type": "code",
   "execution_count": 4,
   "metadata": {},
   "outputs": [],
   "source": [
    "codes = [url[32:] for url in urls]"
   ]
  },
  {
   "cell_type": "markdown",
   "metadata": {},
   "source": [
    "The video codes seem to always be 11 characters - even for [the first Youtube video](https://www.youtube.com/watch?v=jNQXAC9IVRw) ([source](https://en.wikipedia.org/wiki/Me_at_the_zoo))."
   ]
  },
  {
   "cell_type": "code",
   "execution_count": 5,
   "metadata": {},
   "outputs": [
    {
     "data": {
      "text/plain": [
       "Counter({11: 210})"
      ]
     },
     "execution_count": 5,
     "metadata": {},
     "output_type": "execute_result"
    }
   ],
   "source": [
    "collections.Counter(len(code) for code in codes)"
   ]
  },
  {
   "cell_type": "markdown",
   "metadata": {},
   "source": [
    "Here's the full set of characters that appear in video codes."
   ]
  },
  {
   "cell_type": "code",
   "execution_count": 6,
   "metadata": {},
   "outputs": [
    {
     "data": {
      "text/plain": [
       "'-0123456789ABCDEFGHIJKLMNOPQRSTUVWXYZ_abcdefghijklmnopqrstuvwxyz'"
      ]
     },
     "execution_count": 6,
     "metadata": {},
     "output_type": "execute_result"
    }
   ],
   "source": [
    "freqs = collections.Counter(''.join(codes))\n",
    "chars = ''.join(sorted(freqs.keys()))\n",
    "chars"
   ]
  },
  {
   "cell_type": "code",
   "execution_count": 7,
   "metadata": {},
   "outputs": [
    {
     "data": {
      "text/plain": [
       "64"
      ]
     },
     "execution_count": 7,
     "metadata": {},
     "output_type": "execute_result"
    }
   ],
   "source": [
    "len(chars)"
   ]
  },
  {
   "cell_type": "markdown",
   "metadata": {},
   "source": [
    "That makes it seem like they're going for [base 64](https://en.wikipedia.org/wiki/Base64). With 11 digits, that represents 66 bits of information, for quite a few possibilities (though fewer than in [UUIDs](https://en.wikipedia.org/wiki/Universally_unique_identifier))."
   ]
  },
  {
   "cell_type": "code",
   "execution_count": 8,
   "metadata": {},
   "outputs": [
    {
     "data": {
      "text/plain": [
       "73786976294838206464L"
      ]
     },
     "execution_count": 8,
     "metadata": {},
     "output_type": "execute_result"
    }
   ],
   "source": [
    "64**11"
   ]
  },
  {
   "cell_type": "markdown",
   "metadata": {},
   "source": [
    "That's 73 quintillion, 7.3 x 10^19, which is pretty many. It [seems like](https://www.quora.com/How-many-videos-are-on-YouTube-2017-1) there are maybe 5 billion YouTube videos. How many codes are there per video that exists?"
   ]
  },
  {
   "cell_type": "code",
   "execution_count": 9,
   "metadata": {},
   "outputs": [
    {
     "data": {
      "text/plain": [
       "14757395258.967642"
      ]
     },
     "execution_count": 9,
     "metadata": {},
     "output_type": "execute_result"
    }
   ],
   "source": [
    "64**11 / 5e9"
   ]
  },
  {
   "cell_type": "markdown",
   "metadata": {},
   "source": [
    "Gross; I'd have to guess 15 billion URLs to find a video? Say I can check ten URLs per second..."
   ]
  },
  {
   "cell_type": "code",
   "execution_count": 10,
   "metadata": {},
   "outputs": [
    {
     "data": {
      "text/plain": [
       "46.79539338840577"
      ]
     },
     "execution_count": 10,
     "metadata": {},
     "output_type": "execute_result"
    }
   ],
   "source": [
    "(64**11 / 5e9) / 10 / 60 / 60 / 24 / 365"
   ]
  },
  {
   "cell_type": "markdown",
   "metadata": {},
   "source": [
    "Hmm; two per century is not fast enough.\n",
    "\n",
    "Is it really random though? This gut check shows that no characters appear half as often as expected, or twice as often as expected. (The range is inside 0.6 to 1.5 as often.)"
   ]
  },
  {
   "cell_type": "code",
   "execution_count": 11,
   "metadata": {},
   "outputs": [
    {
     "data": {
      "text/plain": [
       "[0.6372294372294373,\n",
       " 0.6649350649350649,\n",
       " 0.6649350649350649,\n",
       " 0.6926406926406926,\n",
       " 0.6926406926406926,\n",
       " 0.7203463203463204,\n",
       " 0.7203463203463204,\n",
       " 0.7203463203463204,\n",
       " 0.7480519480519481,\n",
       " 0.7757575757575758,\n",
       " 0.7757575757575758,\n",
       " 0.7757575757575758,\n",
       " 0.7757575757575758,\n",
       " 0.8034632034632034,\n",
       " 0.8034632034632034,\n",
       " 0.8588744588744589,\n",
       " 0.8588744588744589,\n",
       " 0.8865800865800866,\n",
       " 0.8865800865800866,\n",
       " 0.8865800865800866,\n",
       " 0.8865800865800866,\n",
       " 0.8865800865800866,\n",
       " 0.8865800865800866,\n",
       " 0.8865800865800866,\n",
       " 0.9142857142857143,\n",
       " 0.9142857142857143,\n",
       " 0.9142857142857143,\n",
       " 0.9142857142857143,\n",
       " 0.941991341991342,\n",
       " 0.941991341991342,\n",
       " 0.941991341991342,\n",
       " 0.941991341991342,\n",
       " 0.9696969696969697,\n",
       " 0.9974025974025974,\n",
       " 0.9974025974025974,\n",
       " 0.9974025974025974,\n",
       " 1.025108225108225,\n",
       " 1.025108225108225,\n",
       " 1.025108225108225,\n",
       " 1.0528138528138529,\n",
       " 1.0528138528138529,\n",
       " 1.0528138528138529,\n",
       " 1.0805194805194804,\n",
       " 1.0805194805194804,\n",
       " 1.0805194805194804,\n",
       " 1.0805194805194804,\n",
       " 1.1082251082251082,\n",
       " 1.135930735930736,\n",
       " 1.1636363636363636,\n",
       " 1.1636363636363636,\n",
       " 1.1636363636363636,\n",
       " 1.2190476190476192,\n",
       " 1.2190476190476192,\n",
       " 1.2467532467532467,\n",
       " 1.2744588744588745,\n",
       " 1.2744588744588745,\n",
       " 1.2744588744588745,\n",
       " 1.3575757575757577,\n",
       " 1.3852813852813852,\n",
       " 1.3852813852813852,\n",
       " 1.3852813852813852,\n",
       " 1.4406926406926408,\n",
       " 1.4683982683982684,\n",
       " 1.4961038961038962]"
      ]
     },
     "execution_count": 11,
     "metadata": {},
     "output_type": "execute_result"
    }
   ],
   "source": [
    "sorted([val / (210. * 11 / 64) for val in freqs.values()])"
   ]
  },
  {
   "cell_type": "markdown",
   "metadata": {},
   "source": [
    "So it looks at least random-ish. We could do some statistics (chi-squared?) to quantify how random it seems, look at per-character-position counts, etc., but it doesn't seem worth it."
   ]
  },
  {
   "cell_type": "markdown",
   "metadata": {},
   "source": [
    "Looks like it's back to the existing things that get random videos by some presumably cheating method:\n",
    "\n",
    " * [randomyoutube.net](https://randomyoutube.net/) (my favorite)\n",
    " * [stumbl.tv](http://stumbl.tv/)\n",
    " * [ytroulette.com](https://ytroulette.com/)"
   ]
  },
  {
   "cell_type": "code",
   "execution_count": null,
   "metadata": {
    "collapsed": true
   },
   "outputs": [],
   "source": []
  }
 ],
 "metadata": {
  "kernelspec": {
   "display_name": "Python 2",
   "language": "python",
   "name": "python2"
  },
  "language_info": {
   "codemirror_mode": {
    "name": "ipython",
    "version": 2
   },
   "file_extension": ".py",
   "mimetype": "text/x-python",
   "name": "python",
   "nbconvert_exporter": "python",
   "pygments_lexer": "ipython2",
   "version": "2.7.14"
  }
 },
 "nbformat": 4,
 "nbformat_minor": 2
}
